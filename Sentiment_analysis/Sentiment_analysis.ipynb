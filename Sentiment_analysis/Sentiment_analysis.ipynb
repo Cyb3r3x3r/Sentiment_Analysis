{
 "cells": [
  {
   "cell_type": "code",
   "execution_count": 1,
   "id": "1f872e88-88ed-4887-aa80-b8374e7873c8",
   "metadata": {},
   "outputs": [],
   "source": [
    "import numpy as np\n",
    "import pandas as pd"
   ]
  },
  {
   "cell_type": "code",
   "execution_count": 2,
   "id": "488442c7-4479-4aec-87a4-c1bdec4ca2be",
   "metadata": {},
   "outputs": [],
   "source": [
    "dataset = pd.read_csv(\"amazon_review.csv\")"
   ]
  },
  {
   "cell_type": "code",
   "execution_count": 3,
   "id": "8d4ec63a-a95a-487f-9058-1e243c5107b7",
   "metadata": {},
   "outputs": [
    {
     "data": {
      "text/html": [
       "<div>\n",
       "<style scoped>\n",
       "    .dataframe tbody tr th:only-of-type {\n",
       "        vertical-align: middle;\n",
       "    }\n",
       "\n",
       "    .dataframe tbody tr th {\n",
       "        vertical-align: top;\n",
       "    }\n",
       "\n",
       "    .dataframe thead th {\n",
       "        text-align: right;\n",
       "    }\n",
       "</style>\n",
       "<table border=\"1\" class=\"dataframe\">\n",
       "  <thead>\n",
       "    <tr style=\"text-align: right;\">\n",
       "      <th></th>\n",
       "      <th>rating</th>\n",
       "      <th>title</th>\n",
       "      <th>review</th>\n",
       "    </tr>\n",
       "  </thead>\n",
       "  <tbody>\n",
       "    <tr>\n",
       "      <th>0</th>\n",
       "      <td>2</td>\n",
       "      <td>Stuning even for the non-gamer</td>\n",
       "      <td>This sound track was beautiful! It paints the ...</td>\n",
       "    </tr>\n",
       "    <tr>\n",
       "      <th>1</th>\n",
       "      <td>2</td>\n",
       "      <td>The best soundtrack ever to anything.</td>\n",
       "      <td>I'm reading a lot of reviews saying that this ...</td>\n",
       "    </tr>\n",
       "    <tr>\n",
       "      <th>2</th>\n",
       "      <td>2</td>\n",
       "      <td>Amazing!</td>\n",
       "      <td>This soundtrack is my favorite music of all ti...</td>\n",
       "    </tr>\n",
       "    <tr>\n",
       "      <th>3</th>\n",
       "      <td>2</td>\n",
       "      <td>Excellent Soundtrack</td>\n",
       "      <td>I truly like this soundtrack and I enjoy video...</td>\n",
       "    </tr>\n",
       "    <tr>\n",
       "      <th>4</th>\n",
       "      <td>2</td>\n",
       "      <td>Remember, Pull Your Jaw Off The Floor After He...</td>\n",
       "      <td>If you've played the game, you know how divine...</td>\n",
       "    </tr>\n",
       "  </tbody>\n",
       "</table>\n",
       "</div>"
      ],
      "text/plain": [
       "   rating                                              title  \\\n",
       "0       2                     Stuning even for the non-gamer   \n",
       "1       2              The best soundtrack ever to anything.   \n",
       "2       2                                           Amazing!   \n",
       "3       2                               Excellent Soundtrack   \n",
       "4       2  Remember, Pull Your Jaw Off The Floor After He...   \n",
       "\n",
       "                                              review  \n",
       "0  This sound track was beautiful! It paints the ...  \n",
       "1  I'm reading a lot of reviews saying that this ...  \n",
       "2  This soundtrack is my favorite music of all ti...  \n",
       "3  I truly like this soundtrack and I enjoy video...  \n",
       "4  If you've played the game, you know how divine...  "
      ]
     },
     "execution_count": 3,
     "metadata": {},
     "output_type": "execute_result"
    }
   ],
   "source": [
    "dataset.head()"
   ]
  },
  {
   "cell_type": "code",
   "execution_count": 4,
   "id": "aade60e9-b5d0-46b4-b240-c5488fbf8e35",
   "metadata": {},
   "outputs": [
    {
     "name": "stdout",
     "output_type": "stream",
     "text": [
      "<class 'pandas.core.frame.DataFrame'>\n",
      "RangeIndex: 50001 entries, 0 to 50000\n",
      "Data columns (total 3 columns):\n",
      " #   Column  Non-Null Count  Dtype \n",
      "---  ------  --------------  ----- \n",
      " 0   rating  50001 non-null  int64 \n",
      " 1   title   49996 non-null  object\n",
      " 2   review  50001 non-null  object\n",
      "dtypes: int64(1), object(2)\n",
      "memory usage: 1.1+ MB\n"
     ]
    }
   ],
   "source": [
    "dataset.info()"
   ]
  },
  {
   "cell_type": "code",
   "execution_count": 5,
   "id": "67bd44d1-57d2-478e-9541-f38782c85036",
   "metadata": {},
   "outputs": [
    {
     "name": "stdout",
     "output_type": "stream",
     "text": [
      "Rows: 50001\n",
      "Columns: 3\n",
      "Columns Names: ['rating', 'title', 'review']\n"
     ]
    }
   ],
   "source": [
    "# Check the shape and columns\n",
    "print(f'Rows: {dataset.shape[0]}\\nColumns: {dataset.shape[1]}')\n",
    "print(f'Columns Names: {list(dataset.columns)}')"
   ]
  },
  {
   "cell_type": "code",
   "execution_count": 6,
   "id": "7d191721-19d3-4e29-a2da-52d2b8c5a90d",
   "metadata": {},
   "outputs": [
    {
     "name": "stdout",
     "output_type": "stream",
     "text": [
      "Rows: 49996\n",
      "Columns: 3\n",
      "Columns Names: ['rating', 'title', 'review']\n"
     ]
    }
   ],
   "source": [
    "#cleaning the dataset with missing value\n",
    "dataset_cleaned = dataset.dropna(subset=['title'])\n",
    "print(f'Rows: {dataset_cleaned.shape[0]}\\nColumns: {dataset_cleaned.shape[1]}')\n",
    "print(f'Columns Names: {list(dataset_cleaned.columns)}')"
   ]
  },
  {
   "cell_type": "code",
   "execution_count": 7,
   "id": "975fa05c-89d7-45a5-83e6-b453204f1fdf",
   "metadata": {},
   "outputs": [],
   "source": [
    "from spacy.lang.en import English\n",
    "nlp = English()"
   ]
  },
  {
   "cell_type": "code",
   "execution_count": 8,
   "id": "dff0170d-f357-455c-a4b7-d382f62eedd1",
   "metadata": {},
   "outputs": [],
   "source": [
    "import string\n",
    "from spacy.lang.en.stop_words import STOP_WORDS\n",
    "\n",
    "stopwords = list(STOP_WORDS)\n",
    "punctuations = string.punctuation"
   ]
  },
  {
   "cell_type": "code",
   "execution_count": 9,
   "id": "14a1bf07-be2a-493d-92c9-282bc80f53bd",
   "metadata": {},
   "outputs": [],
   "source": [
    "#Function to tokenize\n",
    "\n",
    "def tokenizer(sentence):\n",
    "    mytokens = nlp(sentence)\n",
    "    mytokens = [word.lemma_.lower().strip() if word.lemma_ != \"-PRON-\" else word.lower_ for word in mytokens]\n",
    "    mytokens = [word for word in mytokens if word not in stopwords and word not in punctuations]\n",
    "    return mytokens"
   ]
  },
  {
   "cell_type": "code",
   "execution_count": 10,
   "id": "b6f41b3a-dd05-472d-82bd-7137b233b564",
   "metadata": {},
   "outputs": [],
   "source": [
    "# Basic function to clean the text\n",
    "def clean_text(text):\n",
    "    return text.strip().lower()"
   ]
  },
  {
   "cell_type": "code",
   "execution_count": 11,
   "id": "bb17e8e3-7cb4-4c03-a887-2309dd14bb7e",
   "metadata": {},
   "outputs": [],
   "source": [
    "# Convert rating into sentiment (positive/negative) - 1 for negative and 2 for positive\n",
    "def convert_sentiment(rating):\n",
    "    return 'positive' if rating == 2 else 'negative'"
   ]
  },
  {
   "cell_type": "code",
   "execution_count": 12,
   "id": "49b53d6b-5ba2-4c2f-8f9f-eb160728657a",
   "metadata": {},
   "outputs": [
    {
     "name": "stderr",
     "output_type": "stream",
     "text": [
      "C:\\Users\\Admin\\AppData\\Local\\Temp\\ipykernel_13768\\1490785510.py:1: SettingWithCopyWarning: \n",
      "A value is trying to be set on a copy of a slice from a DataFrame.\n",
      "Try using .loc[row_indexer,col_indexer] = value instead\n",
      "\n",
      "See the caveats in the documentation: https://pandas.pydata.org/pandas-docs/stable/user_guide/indexing.html#returning-a-view-versus-a-copy\n",
      "  dataset_cleaned.loc[:, 'sentiment'] = dataset_cleaned['rating'].apply(convert_sentiment)\n"
     ]
    }
   ],
   "source": [
    "dataset_cleaned.loc[:, 'sentiment'] = dataset_cleaned['rating'].apply(convert_sentiment)"
   ]
  },
  {
   "cell_type": "code",
   "execution_count": 13,
   "id": "00f5a636-171b-42c1-a67a-b8a94d87745a",
   "metadata": {},
   "outputs": [
    {
     "data": {
      "text/html": [
       "<div>\n",
       "<style scoped>\n",
       "    .dataframe tbody tr th:only-of-type {\n",
       "        vertical-align: middle;\n",
       "    }\n",
       "\n",
       "    .dataframe tbody tr th {\n",
       "        vertical-align: top;\n",
       "    }\n",
       "\n",
       "    .dataframe thead th {\n",
       "        text-align: right;\n",
       "    }\n",
       "</style>\n",
       "<table border=\"1\" class=\"dataframe\">\n",
       "  <thead>\n",
       "    <tr style=\"text-align: right;\">\n",
       "      <th></th>\n",
       "      <th>rating</th>\n",
       "      <th>title</th>\n",
       "      <th>review</th>\n",
       "      <th>sentiment</th>\n",
       "    </tr>\n",
       "  </thead>\n",
       "  <tbody>\n",
       "    <tr>\n",
       "      <th>0</th>\n",
       "      <td>2</td>\n",
       "      <td>Stuning even for the non-gamer</td>\n",
       "      <td>This sound track was beautiful! It paints the ...</td>\n",
       "      <td>positive</td>\n",
       "    </tr>\n",
       "    <tr>\n",
       "      <th>1</th>\n",
       "      <td>2</td>\n",
       "      <td>The best soundtrack ever to anything.</td>\n",
       "      <td>I'm reading a lot of reviews saying that this ...</td>\n",
       "      <td>positive</td>\n",
       "    </tr>\n",
       "    <tr>\n",
       "      <th>2</th>\n",
       "      <td>2</td>\n",
       "      <td>Amazing!</td>\n",
       "      <td>This soundtrack is my favorite music of all ti...</td>\n",
       "      <td>positive</td>\n",
       "    </tr>\n",
       "    <tr>\n",
       "      <th>3</th>\n",
       "      <td>2</td>\n",
       "      <td>Excellent Soundtrack</td>\n",
       "      <td>I truly like this soundtrack and I enjoy video...</td>\n",
       "      <td>positive</td>\n",
       "    </tr>\n",
       "    <tr>\n",
       "      <th>4</th>\n",
       "      <td>2</td>\n",
       "      <td>Remember, Pull Your Jaw Off The Floor After He...</td>\n",
       "      <td>If you've played the game, you know how divine...</td>\n",
       "      <td>positive</td>\n",
       "    </tr>\n",
       "  </tbody>\n",
       "</table>\n",
       "</div>"
      ],
      "text/plain": [
       "   rating                                              title  \\\n",
       "0       2                     Stuning even for the non-gamer   \n",
       "1       2              The best soundtrack ever to anything.   \n",
       "2       2                                           Amazing!   \n",
       "3       2                               Excellent Soundtrack   \n",
       "4       2  Remember, Pull Your Jaw Off The Floor After He...   \n",
       "\n",
       "                                              review sentiment  \n",
       "0  This sound track was beautiful! It paints the ...  positive  \n",
       "1  I'm reading a lot of reviews saying that this ...  positive  \n",
       "2  This soundtrack is my favorite music of all ti...  positive  \n",
       "3  I truly like this soundtrack and I enjoy video...  positive  \n",
       "4  If you've played the game, you know how divine...  positive  "
      ]
     },
     "execution_count": 13,
     "metadata": {},
     "output_type": "execute_result"
    }
   ],
   "source": [
    "dataset_cleaned.head()"
   ]
  },
  {
   "cell_type": "code",
   "execution_count": 14,
   "id": "ab1facff-0914-41e6-9814-c2921eb6abda",
   "metadata": {},
   "outputs": [],
   "source": [
    "#Preparing the features and the labels\n",
    "X = dataset_cleaned['review']\n",
    "y = dataset_cleaned['sentiment']"
   ]
  },
  {
   "cell_type": "code",
   "execution_count": 15,
   "id": "9594e4ff-bdd6-4547-b6fb-0cdf6db87440",
   "metadata": {},
   "outputs": [
    {
     "name": "stdout",
     "output_type": "stream",
     "text": [
      "length of training data - 39996\n",
      "length of testing data - 10000\n"
     ]
    }
   ],
   "source": [
    "#Splitting the data\n",
    "from sklearn.model_selection import train_test_split\n",
    "\n",
    "X_train, X_test, y_train, y_test = train_test_split(X, y, test_size=0.2, random_state=66)\n",
    "print(f\"length of training data - {len(X_train)}\")\n",
    "print(f\"length of testing data - {len(X_test)}\")"
   ]
  },
  {
   "cell_type": "code",
   "execution_count": 16,
   "id": "f3be23bf-dfff-444e-8818-ade87afaa638",
   "metadata": {},
   "outputs": [],
   "source": [
    "# Vectorizer and classifier pipeline\n",
    "\n",
    "from sklearn.feature_extraction.text import CountVectorizer, TfidfVectorizer"
   ]
  },
  {
   "cell_type": "code",
   "execution_count": 17,
   "id": "ea9017b8-85d5-4d44-99eb-5cafdb9fa7be",
   "metadata": {},
   "outputs": [],
   "source": [
    "vectorizer = CountVectorizer(tokenizer=None, ngram_range=(1, 1))  # Simple bag-of-words\n",
    "tfvectorizer = TfidfVectorizer(tokenizer=tokenizer)"
   ]
  },
  {
   "cell_type": "code",
   "execution_count": 18,
   "id": "41d98ec4-3752-4609-9307-ba5c2ecdbbcb",
   "metadata": {},
   "outputs": [],
   "source": [
    "#Trying the logistic regression model\n",
    "from sklearn.linear_model import LogisticRegression"
   ]
  },
  {
   "cell_type": "code",
   "execution_count": 19,
   "id": "26b1c5d1-076d-4cc9-9b3f-56629e3329e5",
   "metadata": {},
   "outputs": [],
   "source": [
    "classifier = LogisticRegression(max_iter=1000)"
   ]
  },
  {
   "cell_type": "code",
   "execution_count": 20,
   "id": "02b7e2cc-4726-40d5-9846-fd715305ee67",
   "metadata": {},
   "outputs": [],
   "source": [
    "#defining the lr model pipeline\n",
    "# Define pipeline with vectorizer and classifier\n",
    "from sklearn.pipeline import Pipeline\n",
    "lr_model = Pipeline([\n",
    "    ('vectorizer', vectorizer),\n",
    "    ('classifier', classifier)\n",
    "])"
   ]
  },
  {
   "cell_type": "code",
   "execution_count": 21,
   "id": "51af6cbd-9d8b-490c-9d62-7bd97c0d2304",
   "metadata": {},
   "outputs": [
    {
     "name": "stdout",
     "output_type": "stream",
     "text": [
      "Confusion Matrix:\n",
      "[[4147  727]\n",
      " [ 671 4455]]\n",
      "\n",
      "Classification Report:\n",
      "              precision    recall  f1-score   support\n",
      "\n",
      "    negative       0.86      0.85      0.86      4874\n",
      "    positive       0.86      0.87      0.86      5126\n",
      "\n",
      "    accuracy                           0.86     10000\n",
      "   macro avg       0.86      0.86      0.86     10000\n",
      "weighted avg       0.86      0.86      0.86     10000\n",
      "\n",
      "Accuracy: 86.02%\n"
     ]
    }
   ],
   "source": [
    "from sklearn.metrics import accuracy_score, confusion_matrix, classification_report\n",
    "# Train the model\n",
    "lr_model.fit(X_train, y_train)\n",
    "\n",
    "# Predict on test data\n",
    "lr_pred = lr_model.predict(X_test)\n",
    "\n",
    "# Print evaluation metrics\n",
    "print(f'Confusion Matrix:\\n{confusion_matrix(y_test, lr_pred)}')\n",
    "print(f'\\nClassification Report:\\n{classification_report(y_test, lr_pred)}')\n",
    "print(f'Accuracy: {accuracy_score(y_test, lr_pred) * 100}%')"
   ]
  },
  {
   "cell_type": "code",
   "execution_count": 22,
   "id": "31f11366-b007-45e1-9016-db51478d32c4",
   "metadata": {},
   "outputs": [],
   "source": [
    "# Ensuring that save directory exists before saving the model\n",
    "import os\n",
    "import pickle\n",
    "save_path = \"./saved_model\"\n",
    "os.makedirs(save_path, exist_ok=True)\n",
    "\n",
    "# Saving the trained Logistic Regression model\n",
    "pickle.dump(lr_model, open(os.path.join(save_path, \"LogisticRegression.sav\"), \"wb\"))"
   ]
  },
  {
   "cell_type": "code",
   "execution_count": 23,
   "id": "8ec9df10-fef6-45f0-9596-887dd10c69af",
   "metadata": {},
   "outputs": [],
   "source": [
    "#Trying the Random Forest Classifier\n",
    "from sklearn.ensemble import RandomForestClassifier"
   ]
  },
  {
   "cell_type": "code",
   "execution_count": 24,
   "id": "75b63828-112a-4526-b4d9-3736b4bb3774",
   "metadata": {},
   "outputs": [
    {
     "name": "stdout",
     "output_type": "stream",
     "text": [
      "Confusion Matrix:\n",
      "[[3468 1406]\n",
      " [ 686 4440]]\n",
      "\n",
      "Classification Report:\n",
      "              precision    recall  f1-score   support\n",
      "\n",
      "    negative       0.83      0.71      0.77      4874\n",
      "    positive       0.76      0.87      0.81      5126\n",
      "\n",
      "    accuracy                           0.79     10000\n",
      "   macro avg       0.80      0.79      0.79     10000\n",
      "weighted avg       0.80      0.79      0.79     10000\n",
      "\n",
      "Accuracy: 79.08%\n"
     ]
    }
   ],
   "source": [
    "# Random Forest Classifier\n",
    "rf_model = RandomForestClassifier(\n",
    "    n_estimators=100,\n",
    "    max_depth=20,\n",
    "    min_samples_split=5,\n",
    "    n_jobs=-1,\n",
    "    random_state=66\n",
    ")\n",
    "\n",
    "rf_model = Pipeline([\n",
    "    ('vectorizer', vectorizer),\n",
    "    ('classifier', rf_model)\n",
    "])\n",
    "\n",
    "rf_model.fit(X_train, y_train)\n",
    "\n",
    "# Predict on test data\n",
    "rf_pred = rf_model.predict(X_test)\n",
    "\n",
    "# Print evaluation metrics for Random Forest\n",
    "print(f'Confusion Matrix:\\n{confusion_matrix(y_test, rf_pred)}')\n",
    "print(f'\\nClassification Report:\\n{classification_report(y_test, rf_pred)}')\n",
    "print(f'Accuracy: {accuracy_score(y_test, rf_pred) * 100}%')"
   ]
  },
  {
   "cell_type": "code",
   "execution_count": 26,
   "id": "18dce251-ee7f-4db9-8600-bbdf8ecf0533",
   "metadata": {},
   "outputs": [],
   "source": [
    "# Saving the trained Random Forest model\n",
    "pickle.dump(rf_model, open(os.path.join(save_path, \"RandomForest.sav\"), \"wb\"))"
   ]
  },
  {
   "cell_type": "code",
   "execution_count": 27,
   "id": "6c0f1689-ef2d-4784-a839-453786d9fa5e",
   "metadata": {},
   "outputs": [
    {
     "name": "stdout",
     "output_type": "stream",
     "text": [
      "Prediction: positive\n",
      "Prediction: negative\n"
     ]
    }
   ],
   "source": [
    "#Example Predictions\n",
    "\n",
    "\n",
    "prediction = lr_model.predict([\"This product is amazing! Highly recommend it to everyone.\"])\n",
    "print(f'Prediction: {prediction[0]}')\n",
    "\n",
    "# Another example prediction (Random Forest)\n",
    "prediction = rf_model.predict([\"The product quality is poor. It broke after one use.\"])\n",
    "print(f'Prediction: {prediction[0]}')"
   ]
  },
  {
   "cell_type": "code",
   "execution_count": 28,
   "id": "03459f69-e571-46c5-8c98-aae7505e6796",
   "metadata": {},
   "outputs": [
    {
     "name": "stdout",
     "output_type": "stream",
     "text": [
      "Prediction: positive\n",
      "Prediction: positive\n"
     ]
    }
   ],
   "source": [
    "#Example prediction with a subtle positive review\n",
    "\n",
    "prediction = lr_model.predict([\"I recently tried this product and while it took me a bit of time to fully get accustomed to it, I can definitely see how it would work for others. The quality is solid, and it has a unique design that stands out compared to others I’ve used. There are a few things that could be improved for a more seamless experience, but overall, it has its strong points. It’s a good option for anyone who appreciates functionality with a touch of style.\"])\n",
    "print(f'Prediction: {prediction[0]}')\n",
    "\n",
    "# Another example prediction (Random Forest)\n",
    "prediction = rf_model.predict([\"I recently tried this product and while it took me a bit of time to fully get accustomed to it, I can definitely see how it would work for others. The quality is solid, and it has a unique design that stands out compared to others I’ve used. There are a few things that could be improved for a more seamless experience, but overall, it has its strong points. It’s a good option for anyone who appreciates functionality with a touch of style.\"])\n",
    "print(f'Prediction: {prediction[0]}')"
   ]
  },
  {
   "cell_type": "code",
   "execution_count": 29,
   "id": "8defeb4e-3cd5-437a-a207-e620583fba08",
   "metadata": {},
   "outputs": [
    {
     "name": "stdout",
     "output_type": "stream",
     "text": [
      "Prediction: negative\n",
      "Prediction: negative\n"
     ]
    }
   ],
   "source": [
    "#Example prediction with a subtle negative review\n",
    "\n",
    "prediction = lr_model.predict([\" It's not terrible, but there are definitely areas where improvement could make a significant difference. It might work better for others, but for me, it didn’t quite hit the mark.\"])\n",
    "print(f'Prediction: {prediction[0]}')\n",
    "\n",
    "# Another example prediction (Random Forest)\n",
    "prediction = rf_model.predict([\" It's not terrible, but there are definitely areas where improvement could make a significant difference. It might work better for others, but for me, it didn’t quite hit the mark.\"])\n",
    "print(f'Prediction: {prediction[0]}')"
   ]
  },
  {
   "cell_type": "code",
   "execution_count": null,
   "id": "34fce644-fb51-4032-aae8-a14696d93eb1",
   "metadata": {},
   "outputs": [],
   "source": []
  }
 ],
 "metadata": {
  "kernelspec": {
   "display_name": "Python 3 (ipykernel)",
   "language": "python",
   "name": "python3"
  },
  "language_info": {
   "codemirror_mode": {
    "name": "ipython",
    "version": 3
   },
   "file_extension": ".py",
   "mimetype": "text/x-python",
   "name": "python",
   "nbconvert_exporter": "python",
   "pygments_lexer": "ipython3",
   "version": "3.11.0"
  }
 },
 "nbformat": 4,
 "nbformat_minor": 5
}
